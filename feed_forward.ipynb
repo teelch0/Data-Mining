{
  "cells": [
    {
      "cell_type": "code",
      "execution_count": 1,
      "id": "0832d31d",
      "metadata": {
        "id": "0832d31d"
      },
      "outputs": [],
      "source": [
        "import torch\n",
        "import torch.nn as nn"
      ]
    },
    {
      "cell_type": "code",
      "execution_count": 2,
      "id": "6efd35c2",
      "metadata": {
        "id": "6efd35c2"
      },
      "outputs": [],
      "source": [
        "GPT_CONFIG_124M = {\n",
        "    \"vocab_size\": 50257,    # Vocabulary size\n",
        "    \"context_length\": 1024, # Context length\n",
        "    \"emb_dim\": 768,         # Embedding dimension\n",
        "    \"n_heads\": 12,          # Number of attention heads\n",
        "    \"n_layers\": 12,         # Number of layers\n",
        "    \"drop_rate\": 0.1,       # Dropout rate\n",
        "    \"qkv_bias\": False       # Query-Key-Value bias\n",
        "}"
      ]
    },
    {
      "cell_type": "code",
      "execution_count": 3,
      "id": "06d03bef",
      "metadata": {
        "id": "06d03bef"
      },
      "outputs": [],
      "source": [
        "class GELU(nn.Module):\n",
        "    def __init__(self):\n",
        "        super().__init__()\n",
        "\n",
        "    def forward(self, x):\n",
        "        return 0.5 * x * (1 + torch.tanh(\n",
        "            torch.sqrt(torch.tensor(2.0 / torch.pi)) *\n",
        "            (x + 0.044715 * torch.pow(x, 3))\n",
        "        ))\n"
      ]
    },
    {
      "cell_type": "code",
      "execution_count": 4,
      "id": "725280b8",
      "metadata": {
        "id": "725280b8"
      },
      "outputs": [],
      "source": [
        "class FeedForward(nn.Module):\n",
        "    def __init__(self, cfg):\n",
        "        super().__init__()\n",
        "        self.layers = nn.Sequential(\n",
        "            nn.Linear(cfg[\"emb_dim\"], 4 * cfg[\"emb_dim\"]),\n",
        "            GELU(),\n",
        "            nn.Linear(4 * cfg[\"emb_dim\"], cfg[\"emb_dim\"]),\n",
        "        )\n",
        "\n",
        "    def forward(self, x):\n",
        "        return self.layers(x)"
      ]
    },
    {
      "cell_type": "code",
      "execution_count": 5,
      "id": "c3ec7e27",
      "metadata": {
        "id": "c3ec7e27"
      },
      "outputs": [],
      "source": [
        "ff = FeedForward( GPT_CONFIG_124M )"
      ]
    },
    {
      "cell_type": "code",
      "source": [
        "input= torch.randn(3, 768)"
      ],
      "metadata": {
        "id": "oU7B9ETHo-_5"
      },
      "id": "oU7B9ETHo-_5",
      "execution_count": 6,
      "outputs": []
    },
    {
      "cell_type": "code",
      "source": [
        "input"
      ],
      "metadata": {
        "id": "2-AVglBjpNLQ",
        "outputId": "373441a3-19a5-4105-aaa4-b3bb52d283a8",
        "colab": {
          "base_uri": "https://localhost:8080/"
        }
      },
      "id": "2-AVglBjpNLQ",
      "execution_count": 7,
      "outputs": [
        {
          "output_type": "execute_result",
          "data": {
            "text/plain": [
              "tensor([[-5.9991e-02,  3.3799e-01,  6.6761e-01,  ..., -1.0431e+00,\n",
              "         -8.6129e-01, -1.9742e-01],\n",
              "        [-1.8442e+00,  1.0720e-01,  1.1303e+00,  ..., -2.4038e+00,\n",
              "          1.7626e-01, -3.8739e-01],\n",
              "        [-1.2159e+00, -9.4111e-01,  6.2405e-02,  ...,  1.0125e+00,\n",
              "         -1.5164e-03, -5.9532e-01]])"
            ]
          },
          "metadata": {},
          "execution_count": 7
        }
      ]
    },
    {
      "cell_type": "code",
      "source": [
        "output= ff(input)"
      ],
      "metadata": {
        "id": "xqz67Z8ipOi5"
      },
      "id": "xqz67Z8ipOi5",
      "execution_count": 8,
      "outputs": []
    },
    {
      "cell_type": "code",
      "source": [
        "output"
      ],
      "metadata": {
        "id": "v1Zz9KwLqH4O",
        "outputId": "9a9d890e-fd7f-4dd3-d352-a59ef67e408f",
        "colab": {
          "base_uri": "https://localhost:8080/"
        }
      },
      "id": "v1Zz9KwLqH4O",
      "execution_count": 9,
      "outputs": [
        {
          "output_type": "execute_result",
          "data": {
            "text/plain": [
              "tensor([[ 0.1353,  0.1653,  0.0597,  ...,  0.3380, -0.1650,  0.0087],\n",
              "        [ 0.1163,  0.2080, -0.0989,  ...,  0.2634, -0.1391,  0.2591],\n",
              "        [ 0.0163,  0.1924,  0.0421,  ..., -0.1102, -0.0835, -0.0677]],\n",
              "       grad_fn=<AddmmBackward0>)"
            ]
          },
          "metadata": {},
          "execution_count": 9
        }
      ]
    },
    {
      "cell_type": "code",
      "source": [
        "next= ff(output)"
      ],
      "metadata": {
        "id": "PLd-yb7qqH7I"
      },
      "id": "PLd-yb7qqH7I",
      "execution_count": 10,
      "outputs": []
    },
    {
      "cell_type": "code",
      "source": [
        "next"
      ],
      "metadata": {
        "id": "OzCO6jy-r6AR",
        "outputId": "5801a8e1-27a4-486a-f1fd-696fe85f55da",
        "colab": {
          "base_uri": "https://localhost:8080/"
        }
      },
      "id": "OzCO6jy-r6AR",
      "execution_count": 11,
      "outputs": [
        {
          "output_type": "execute_result",
          "data": {
            "text/plain": [
              "tensor([[ 0.0286, -0.0402,  0.0016,  ..., -0.0283,  0.0271,  0.0238],\n",
              "        [ 0.0421,  0.0355,  0.0152,  ..., -0.0142,  0.0288, -0.0144],\n",
              "        [ 0.0180, -0.0922,  0.0025,  ..., -0.0013,  0.0125, -0.0418]],\n",
              "       grad_fn=<AddmmBackward0>)"
            ]
          },
          "metadata": {},
          "execution_count": 11
        }
      ]
    }
  ],
  "metadata": {
    "kernelspec": {
      "display_name": "Python 3 (ipykernel)",
      "language": "python",
      "name": "python3"
    },
    "language_info": {
      "codemirror_mode": {
        "name": "ipython",
        "version": 3
      },
      "file_extension": ".py",
      "mimetype": "text/x-python",
      "name": "python",
      "nbconvert_exporter": "python",
      "pygments_lexer": "ipython3",
      "version": "3.12.3"
    },
    "colab": {
      "provenance": []
    }
  },
  "nbformat": 4,
  "nbformat_minor": 5
}