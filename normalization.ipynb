{
  "cells": [
    {
      "cell_type": "code",
      "execution_count": null,
      "id": "25ed1465",
      "metadata": {
        "id": "25ed1465"
      },
      "outputs": [],
      "source": [
        "import torch\n",
        "import torch.nn as nn"
      ]
    },
    {
      "cell_type": "code",
      "execution_count": null,
      "id": "6a0763e3",
      "metadata": {
        "id": "6a0763e3",
        "outputId": "0a730f44-8594-428f-fe07-edfc156feed2"
      },
      "outputs": [
        {
          "data": {
            "text/plain": [
              "tensor([[-0.8586,  0.0670, -0.3040,  0.4122, -0.7844,  1.0732],\n",
              "        [-0.0573,  1.3836,  0.4028,  0.0379, -2.8845, -0.7538],\n",
              "        [-2.0314,  1.9026, -0.4535,  0.9250,  2.4918,  0.8743]])"
            ]
          },
          "execution_count": 8,
          "metadata": {},
          "output_type": "execute_result"
        }
      ],
      "source": [
        "outputs = torch.randn(3,6)\n",
        "outputs"
      ]
    },
    {
      "cell_type": "code",
      "execution_count": null,
      "id": "c902ff9b",
      "metadata": {
        "id": "c902ff9b",
        "outputId": "1a59ae0b-893b-41aa-c438-6d25e0297ac5"
      },
      "outputs": [
        {
          "data": {
            "text/plain": [
              "tensor([[-0.0658],\n",
              "        [-0.3119],\n",
              "        [ 0.6181]])"
            ]
          },
          "execution_count": 13,
          "metadata": {},
          "output_type": "execute_result"
        }
      ],
      "source": [
        "mean = outputs.mean( dim=-1, keepdim=True )\n",
        "mean"
      ]
    },
    {
      "cell_type": "code",
      "execution_count": null,
      "id": "85fc1959",
      "metadata": {
        "id": "85fc1959",
        "outputId": "22b4dc96-367b-4e92-c5ef-dc10526d3853"
      },
      "outputs": [
        {
          "data": {
            "text/plain": [
              "tensor([[0.7410],\n",
              "        [1.4413],\n",
              "        [1.6425]])"
            ]
          },
          "execution_count": 14,
          "metadata": {},
          "output_type": "execute_result"
        }
      ],
      "source": [
        "sd = outputs.std( dim=-1, keepdim=True)\n",
        "sd"
      ]
    },
    {
      "cell_type": "code",
      "execution_count": null,
      "id": "493a5963",
      "metadata": {
        "id": "493a5963",
        "outputId": "c31cb9a3-c9a7-4a19-bf07-9064338fbf98"
      },
      "outputs": [
        {
          "data": {
            "text/plain": [
              "tensor([[-1.0700,  0.1792, -0.3215,  0.6450, -0.9699,  1.5371],\n",
              "        [ 0.1766,  1.1764,  0.4959,  0.2427, -1.7850, -0.3066],\n",
              "        [-1.6131,  0.7821, -0.6525,  0.1868,  1.1408,  0.1559]])"
            ]
          },
          "execution_count": 15,
          "metadata": {},
          "output_type": "execute_result"
        }
      ],
      "source": [
        "normalized_outputs = (outputs - mean)/sd\n",
        "normalized_outputs"
      ]
    },
    {
      "cell_type": "code",
      "execution_count": null,
      "id": "38667282",
      "metadata": {
        "id": "38667282",
        "outputId": "4bc736e6-4df6-41e9-c197-17a874467635"
      },
      "outputs": [
        {
          "data": {
            "text/plain": [
              "tensor([[     0.0000],\n",
              "        [    -0.0000],\n",
              "        [     0.0000]])"
            ]
          },
          "execution_count": 20,
          "metadata": {},
          "output_type": "execute_result"
        }
      ],
      "source": [
        "normalized_outputs.mean( dim=-1, keepdim=True)"
      ]
    },
    {
      "cell_type": "code",
      "execution_count": null,
      "id": "218e5ecd",
      "metadata": {
        "id": "218e5ecd",
        "outputId": "cade8ffd-13ab-4b61-b602-f82c516038ae"
      },
      "outputs": [
        {
          "data": {
            "text/plain": [
              "tensor([[1.0000],\n",
              "        [1.0000],\n",
              "        [1.0000]])"
            ]
          },
          "execution_count": 21,
          "metadata": {},
          "output_type": "execute_result"
        }
      ],
      "source": [
        "normalized_outputs.std( dim=-1, keepdim=True)"
      ]
    },
    {
      "cell_type": "code",
      "execution_count": null,
      "id": "814efb16",
      "metadata": {
        "id": "814efb16"
      },
      "outputs": [],
      "source": [
        "torch.set_printoptions( sci_mode=False )"
      ]
    },
    {
      "cell_type": "code",
      "execution_count": null,
      "id": "e2509559",
      "metadata": {
        "id": "e2509559"
      },
      "outputs": [],
      "source": [
        "class LayerNorm(nn.Module):\n",
        "    def __init__(self, emb_dim):\n",
        "        super().__init__()\n",
        "        self.eps = 1e-5\n",
        "        self.scale = nn.Parameter(torch.ones(emb_dim))\n",
        "        self.shift = nn.Parameter(torch.zeros(emb_dim))\n",
        "\n",
        "    def forward(self, x):\n",
        "        mean = x.mean(dim=-1, keepdim=True)\n",
        "        var = x.var(dim=-1, keepdim=True, unbiased=False)\n",
        "        norm_x = (x - mean) / torch.sqrt(var + self.eps)\n",
        "        return self.scale * norm_x + self.shift\n"
      ]
    },
    {
      "cell_type": "code",
      "execution_count": null,
      "id": "1302b500",
      "metadata": {
        "id": "1302b500"
      },
      "outputs": [],
      "source": []
    }
  ],
  "metadata": {
    "kernelspec": {
      "display_name": "Python 3 (ipykernel)",
      "language": "python",
      "name": "python3"
    },
    "language_info": {
      "codemirror_mode": {
        "name": "ipython",
        "version": 3
      },
      "file_extension": ".py",
      "mimetype": "text/x-python",
      "name": "python",
      "nbconvert_exporter": "python",
      "pygments_lexer": "ipython3",
      "version": "3.12.3"
    },
    "colab": {
      "provenance": []
    }
  },
  "nbformat": 4,
  "nbformat_minor": 5
}