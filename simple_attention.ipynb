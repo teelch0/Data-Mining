{
  "cells": [
    {
      "cell_type": "markdown",
      "metadata": {
        "id": "view-in-github",
        "colab_type": "text"
      },
      "source": [
        "<a href=\"https://colab.research.google.com/github/teelch0/Data-Mining/blob/main/simple_attention.ipynb\" target=\"_parent\"><img src=\"https://colab.research.google.com/assets/colab-badge.svg\" alt=\"Open In Colab\"/></a>"
      ]
    },
    {
      "cell_type": "code",
      "execution_count": null,
      "id": "ecb13cc5",
      "metadata": {
        "id": "ecb13cc5"
      },
      "outputs": [],
      "source": [
        "import torch\n",
        "import tiktoken"
      ]
    },
    {
      "cell_type": "code",
      "execution_count": null,
      "id": "069ae6cb",
      "metadata": {
        "id": "069ae6cb"
      },
      "outputs": [],
      "source": [
        "raw_text = \"This is my dog Hazel\""
      ]
    },
    {
      "cell_type": "code",
      "execution_count": null,
      "id": "753b5d90",
      "metadata": {
        "id": "753b5d90"
      },
      "outputs": [],
      "source": [
        "tokenizer = tiktoken.get_encoding(\"gpt2\")"
      ]
    },
    {
      "cell_type": "code",
      "execution_count": null,
      "id": "e4f3c0f1",
      "metadata": {
        "colab": {
          "base_uri": "https://localhost:8080/"
        },
        "id": "e4f3c0f1",
        "outputId": "5d45584a-e149-40d9-d1b8-5b42a52e8fdc"
      },
      "outputs": [
        {
          "output_type": "stream",
          "name": "stdout",
          "text": [
            "[1212, 318, 616, 3290, 42805]\n"
          ]
        }
      ],
      "source": [
        "enc_text = tokenizer.encode( raw_text )\n",
        "print(enc_text)"
      ]
    },
    {
      "cell_type": "code",
      "execution_count": null,
      "id": "3cff8e5c",
      "metadata": {
        "colab": {
          "base_uri": "https://localhost:8080/"
        },
        "id": "3cff8e5c",
        "outputId": "ae54faa5-0a5c-4bb6-d2ae-a66be2b6e4fe"
      },
      "outputs": [
        {
          "output_type": "stream",
          "name": "stdout",
          "text": [
            "Parameter containing:\n",
            "tensor([[ 6.3263e-01,  5.5277e-01, -9.8654e-01,  1.9623e+00,  1.7586e-01,\n",
            "         -3.2208e-01, -7.5031e-01, -1.5885e-02],\n",
            "        [-6.7296e-01, -1.9618e+00,  1.1899e-01,  7.0622e-04,  1.8619e+00,\n",
            "          1.5509e+00, -1.5443e+00,  5.6568e-01],\n",
            "        [ 1.9351e-01,  7.9869e-01,  1.3246e+00, -8.8030e-01, -2.4391e-01,\n",
            "          5.3702e-01,  7.9829e-01,  7.0993e-01],\n",
            "        [ 4.8424e-01, -5.5483e-01, -5.0217e-01,  6.8145e-01,  4.2363e-01,\n",
            "         -1.4344e-01,  9.2017e-01, -1.5657e+00]], requires_grad=True)\n"
          ]
        }
      ],
      "source": [
        "vocab_size = 4\n",
        "output_dim = 8\n",
        "inputs = torch.nn.Embedding( vocab_size, output_dim )\n",
        "print( inputs.weight )"
      ]
    },
    {
      "cell_type": "code",
      "execution_count": null,
      "id": "14fa604c",
      "metadata": {
        "colab": {
          "base_uri": "https://localhost:8080/"
        },
        "id": "14fa604c",
        "outputId": "37109a54-b24f-4350-a040-208979443c8b"
      },
      "outputs": [
        {
          "output_type": "execute_result",
          "data": {
            "text/plain": [
              "tensor([[ 6.3263e-01,  5.5277e-01, -9.8654e-01,  1.9623e+00,  1.7586e-01,\n",
              "         -3.2208e-01, -7.5031e-01, -1.5885e-02],\n",
              "        [-6.7296e-01, -1.9618e+00,  1.1899e-01,  7.0622e-04,  1.8619e+00,\n",
              "          1.5509e+00, -1.5443e+00,  5.6568e-01],\n",
              "        [ 1.9351e-01,  7.9869e-01,  1.3246e+00, -8.8030e-01, -2.4391e-01,\n",
              "          5.3702e-01,  7.9829e-01,  7.0993e-01],\n",
              "        [ 4.8424e-01, -5.5483e-01, -5.0217e-01,  6.8145e-01,  4.2363e-01,\n",
              "         -1.4344e-01,  9.2017e-01, -1.5657e+00]])"
            ]
          },
          "metadata": {},
          "execution_count": 6
        }
      ],
      "source": [
        "inputs = inputs.weight.data\n",
        "inputs"
      ]
    },
    {
      "cell_type": "code",
      "execution_count": null,
      "id": "f48673aa",
      "metadata": {
        "colab": {
          "base_uri": "https://localhost:8080/"
        },
        "id": "f48673aa",
        "outputId": "7454b1f6-dd8d-488e-ff7e-662c729bda9b"
      },
      "outputs": [
        {
          "output_type": "execute_result",
          "data": {
            "text/plain": [
              "torch.Size([4, 8])"
            ]
          },
          "metadata": {},
          "execution_count": 7
        }
      ],
      "source": [
        "inputs.shape"
      ]
    },
    {
      "cell_type": "code",
      "execution_count": null,
      "id": "52ecd8a2",
      "metadata": {
        "colab": {
          "base_uri": "https://localhost:8080/"
        },
        "id": "52ecd8a2",
        "outputId": "c5629d8d-6819-4ba0-dd34-553f5d2e456a"
      },
      "outputs": [
        {
          "output_type": "stream",
          "name": "stdout",
          "text": [
            "[0.6326289176940918, 0.5527703762054443, -0.9865354299545288, 1.9622715711593628, 0.17585885524749756, -0.3220824897289276, -0.7503109574317932, -0.01588471606373787]\n",
            "[-0.6729590892791748, -1.9617974758148193, 0.1189877986907959, 0.0007062240620143712, 1.8618825674057007, 1.5508555173873901, -1.5442900657653809, 0.5656778812408447]\n",
            "[0.19350700080394745, 0.7986892461776733, 1.3245874643325806, -0.8802977800369263, -0.24391230940818787, 0.537015438079834, 0.7982850670814514, 0.7099307775497437]\n",
            "[0.48424404859542847, -0.5548260807991028, -0.5021741986274719, 0.6814503073692322, 0.4236266613006592, -0.14343969523906708, 0.9201672077178955, -1.565696120262146]\n"
          ]
        }
      ],
      "source": [
        "for row in inputs:\n",
        "    print(row.tolist())"
      ]
    },
    {
      "cell_type": "code",
      "execution_count": null,
      "id": "744ab807",
      "metadata": {
        "id": "744ab807"
      },
      "outputs": [],
      "source": [
        "x = torch.Tensor([1.1, 2.3])\n",
        "y = torch.Tensor([3.4,-2.1])\n"
      ]
    },
    {
      "cell_type": "code",
      "execution_count": null,
      "id": "9969af72",
      "metadata": {
        "colab": {
          "base_uri": "https://localhost:8080/"
        },
        "id": "9969af72",
        "outputId": "dd8c6488-e200-4cc9-f33d-c5b66e33a260"
      },
      "outputs": [
        {
          "output_type": "execute_result",
          "data": {
            "text/plain": [
              "-1.0899999999999999"
            ]
          },
          "metadata": {},
          "execution_count": 10
        }
      ],
      "source": [
        "1.1*3.4 + 2.3*(-2.1)"
      ]
    },
    {
      "cell_type": "code",
      "execution_count": null,
      "id": "3d0bd2e7",
      "metadata": {
        "colab": {
          "base_uri": "https://localhost:8080/"
        },
        "id": "3d0bd2e7",
        "outputId": "7b678f15-0120-4b4b-9596-400e5b7e512d"
      },
      "outputs": [
        {
          "output_type": "execute_result",
          "data": {
            "text/plain": [
              "tensor(-1.0900)"
            ]
          },
          "metadata": {},
          "execution_count": 11
        }
      ],
      "source": [
        "torch.dot( x, y)"
      ]
    },
    {
      "cell_type": "code",
      "execution_count": null,
      "id": "ff8ed3cb",
      "metadata": {
        "colab": {
          "base_uri": "https://localhost:8080/"
        },
        "id": "ff8ed3cb",
        "outputId": "2c06717b-faad-4f1d-dc56-f911d6a3fd5a"
      },
      "outputs": [
        {
          "output_type": "stream",
          "name": "stdout",
          "text": [
            "tensor([ 0.1935,  0.7987,  1.3246, -0.8803, -0.2439,  0.5370,  0.7983,  0.7099])\n"
          ]
        }
      ],
      "source": [
        "query = inputs[2]\n",
        "print(query)"
      ]
    },
    {
      "cell_type": "code",
      "execution_count": null,
      "id": "ec8044f6",
      "metadata": {
        "colab": {
          "base_uri": "https://localhost:8080/"
        },
        "id": "ec8044f6",
        "outputId": "9fb0dca3-1ae0-44fb-8f83-3200a0f8aca6"
      },
      "outputs": [
        {
          "output_type": "stream",
          "name": "stdout",
          "text": [
            "tensor(-3.2963)\n",
            "tensor(-1.9926)\n",
            "tensor(4.6939)\n",
            "tensor(-2.1718)\n"
          ]
        }
      ],
      "source": [
        "for i in range( len( inputs )):\n",
        "    print( torch.dot( query, inputs[i] ) )"
      ]
    },
    {
      "cell_type": "code",
      "execution_count": null,
      "id": "8bc61b29",
      "metadata": {
        "colab": {
          "base_uri": "https://localhost:8080/"
        },
        "id": "8bc61b29",
        "outputId": "30022799-30d7-4b66-e1e1-c1d79b08d986"
      },
      "outputs": [
        {
          "output_type": "stream",
          "name": "stdout",
          "text": [
            "tensor([-3.2963, -1.9926,  4.6939, -2.1718])\n"
          ]
        }
      ],
      "source": [
        "attention_scores_2 = torch.zeros( len(inputs) )\n",
        "for i in range( len( inputs )):\n",
        "    attention_scores_2[i] = torch.dot( query, inputs[i] )\n",
        "print( attention_scores_2)"
      ]
    },
    {
      "cell_type": "code",
      "execution_count": null,
      "id": "2ea28496",
      "metadata": {
        "id": "2ea28496"
      },
      "outputs": [],
      "source": [
        "# normalize the attention scores using the softmax function:\n",
        "# def softmax(x):\n",
        "#     torch.exp(x) / torch.exp(x).sum()"
      ]
    },
    {
      "cell_type": "code",
      "execution_count": null,
      "id": "13bb65e2",
      "metadata": {
        "colab": {
          "base_uri": "https://localhost:8080/"
        },
        "id": "13bb65e2",
        "outputId": "5867a852-aaa9-4d02-8e0a-0fb1344d7f4a"
      },
      "outputs": [
        {
          "output_type": "execute_result",
          "data": {
            "text/plain": [
              "tensor([3.3786e-04, 1.2443e-03, 9.9738e-01, 1.0402e-03])"
            ]
          },
          "metadata": {},
          "execution_count": 16
        }
      ],
      "source": [
        "attention_weights_2 = torch.softmax( attention_scores_2, dim = 0 )\n",
        "attention_weights_2"
      ]
    },
    {
      "cell_type": "code",
      "execution_count": null,
      "id": "99231a39",
      "metadata": {
        "colab": {
          "base_uri": "https://localhost:8080/"
        },
        "id": "99231a39",
        "outputId": "4998a063-6655-49a8-ba3f-e02fe42be995"
      },
      "outputs": [
        {
          "output_type": "execute_result",
          "data": {
            "text/plain": [
              "tensor(1.)"
            ]
          },
          "metadata": {},
          "execution_count": 17
        }
      ],
      "source": [
        "attention_weights_2.sum()"
      ]
    },
    {
      "cell_type": "code",
      "execution_count": null,
      "id": "4281d09e",
      "metadata": {
        "colab": {
          "base_uri": "https://localhost:8080/"
        },
        "id": "4281d09e",
        "outputId": "4adcccb4-30ca-4e9e-8e7f-4b7f6bb1e162"
      },
      "outputs": [
        {
          "output_type": "execute_result",
          "data": {
            "text/plain": [
              "tensor([ 0.1929,  0.7938,  1.3204, -0.8766, -0.2405,  0.5373,  0.7950,  0.7071])"
            ]
          },
          "metadata": {},
          "execution_count": 18
        }
      ],
      "source": [
        "context_vector_2 = torch.zeros( query.shape )\n",
        "for i in range( len( attention_weights_2 ) ):\n",
        "    context_vector_2 += attention_weights_2[i]*inputs[i]\n",
        "context_vector_2"
      ]
    },
    {
      "cell_type": "code",
      "source": [
        "inputs"
      ],
      "metadata": {
        "colab": {
          "base_uri": "https://localhost:8080/"
        },
        "id": "zU5taTSbgnn_",
        "outputId": "80ad7b65-8339-428b-bd46-ce9a1db8619a"
      },
      "id": "zU5taTSbgnn_",
      "execution_count": null,
      "outputs": [
        {
          "output_type": "execute_result",
          "data": {
            "text/plain": [
              "tensor([[ 6.3263e-01,  5.5277e-01, -9.8654e-01,  1.9623e+00,  1.7586e-01,\n",
              "         -3.2208e-01, -7.5031e-01, -1.5885e-02],\n",
              "        [-6.7296e-01, -1.9618e+00,  1.1899e-01,  7.0622e-04,  1.8619e+00,\n",
              "          1.5509e+00, -1.5443e+00,  5.6568e-01],\n",
              "        [ 1.9351e-01,  7.9869e-01,  1.3246e+00, -8.8030e-01, -2.4391e-01,\n",
              "          5.3702e-01,  7.9829e-01,  7.0993e-01],\n",
              "        [ 4.8424e-01, -5.5483e-01, -5.0217e-01,  6.8145e-01,  4.2363e-01,\n",
              "         -1.4344e-01,  9.2017e-01, -1.5657e+00]])"
            ]
          },
          "metadata": {},
          "execution_count": 19
        }
      ]
    },
    {
      "cell_type": "code",
      "source": [
        "inputs.T"
      ],
      "metadata": {
        "colab": {
          "base_uri": "https://localhost:8080/"
        },
        "id": "IFmdnq32gq50",
        "outputId": "2d4458a8-7b67-4ea2-a355-b6c0f627ed75"
      },
      "id": "IFmdnq32gq50",
      "execution_count": null,
      "outputs": [
        {
          "output_type": "execute_result",
          "data": {
            "text/plain": [
              "tensor([[ 6.3263e-01, -6.7296e-01,  1.9351e-01,  4.8424e-01],\n",
              "        [ 5.5277e-01, -1.9618e+00,  7.9869e-01, -5.5483e-01],\n",
              "        [-9.8654e-01,  1.1899e-01,  1.3246e+00, -5.0217e-01],\n",
              "        [ 1.9623e+00,  7.0622e-04, -8.8030e-01,  6.8145e-01],\n",
              "        [ 1.7586e-01,  1.8619e+00, -2.4391e-01,  4.2363e-01],\n",
              "        [-3.2208e-01,  1.5509e+00,  5.3702e-01, -1.4344e-01],\n",
              "        [-7.5031e-01, -1.5443e+00,  7.9829e-01,  9.2017e-01],\n",
              "        [-1.5885e-02,  5.6568e-01,  7.0993e-01, -1.5657e+00]])"
            ]
          },
          "metadata": {},
          "execution_count": 20
        }
      ]
    },
    {
      "cell_type": "code",
      "execution_count": null,
      "id": "b099939f",
      "metadata": {
        "colab": {
          "base_uri": "https://localhost:8080/"
        },
        "id": "b099939f",
        "outputId": "0d8ae1e9-26ba-47f3-8b44-1dd5eb0b7d65"
      },
      "outputs": [
        {
          "output_type": "execute_result",
          "data": {
            "text/plain": [
              "tensor([[ 6.2274, -0.6485, -3.2963,  1.2874],\n",
              "        [-0.6485, 12.8923, -1.9926, -1.0371],\n",
              "        [-3.2963, -1.9926,  4.6939, -2.1718],\n",
              "        [ 1.2874, -1.0371, -2.1718,  4.7570]])"
            ]
          },
          "metadata": {},
          "execution_count": 21
        }
      ],
      "source": [
        "# get all of the attention scores via a matrix multiplication:\n",
        "attention_scores = inputs @ inputs.T\n",
        "attention_scores"
      ]
    },
    {
      "cell_type": "code",
      "source": [
        "attention_weights = torch.softmax( attention_scores, dim = -1 )\n",
        "attention_weights"
      ],
      "metadata": {
        "colab": {
          "base_uri": "https://localhost:8080/"
        },
        "id": "y63T3p7TgZvl",
        "outputId": "629ee2ab-d88e-47da-bb85-e7c79a0e18eb"
      },
      "id": "y63T3p7TgZvl",
      "execution_count": null,
      "outputs": [
        {
          "output_type": "execute_result",
          "data": {
            "text/plain": [
              "tensor([[9.9181e-01, 1.0239e-03, 7.2497e-05, 7.0960e-03],\n",
              "        [1.3162e-06, 1.0000e+00, 3.4323e-07, 8.9240e-07],\n",
              "        [3.3786e-04, 1.2443e-03, 9.9738e-01, 1.0402e-03],\n",
              "        [3.0072e-02, 2.9420e-03, 9.4588e-04, 9.6604e-01]])"
            ]
          },
          "metadata": {},
          "execution_count": 22
        }
      ]
    },
    {
      "cell_type": "code",
      "source": [
        "attention_weights[0].sum()"
      ],
      "metadata": {
        "colab": {
          "base_uri": "https://localhost:8080/"
        },
        "id": "Gl7K2gNAhGJx",
        "outputId": "e0b7584e-0610-4440-a34f-142085e800f3"
      },
      "id": "Gl7K2gNAhGJx",
      "execution_count": null,
      "outputs": [
        {
          "output_type": "execute_result",
          "data": {
            "text/plain": [
              "tensor(1.0000)"
            ]
          },
          "metadata": {},
          "execution_count": 23
        }
      ]
    },
    {
      "cell_type": "code",
      "source": [
        "context_vectors = attention_weights @ inputs\n",
        "context_vectors"
      ],
      "metadata": {
        "colab": {
          "base_uri": "https://localhost:8080/"
        },
        "id": "4JouXe6KhJVG",
        "outputId": "9f7415cf-8db6-4d02-f3bb-e2e6d99b6427"
      },
      "id": "4JouXe6KhJVG",
      "execution_count": null,
      "outputs": [
        {
          "output_type": "execute_result",
          "data": {
            "text/plain": [
              "tensor([[ 6.3021e-01,  5.4235e-01, -9.8180e-01,  1.9510e+00,  1.7931e-01,\n",
              "         -3.1883e-01, -7.3916e-01, -2.6234e-02],\n",
              "        [-6.7296e-01, -1.9618e+00,  1.1899e-01,  7.0911e-04,  1.8619e+00,\n",
              "          1.5509e+00, -1.5443e+00,  5.6568e-01],\n",
              "        [ 1.9288e-01,  7.9376e-01,  1.3204e+00, -8.7662e-01, -2.4046e-01,\n",
              "          5.3728e-01,  7.9497e-01,  7.0714e-01],\n",
              "        [ 4.8503e-01, -5.2438e-01, -5.1318e-01,  7.1649e-01,  4.1978e-01,\n",
              "         -1.4318e-01,  8.6257e-01, -1.5107e+00]])"
            ]
          },
          "metadata": {},
          "execution_count": 24
        }
      ]
    },
    {
      "cell_type": "code",
      "source": [],
      "metadata": {
        "id": "ik363mQchhgZ"
      },
      "id": "ik363mQchhgZ",
      "execution_count": null,
      "outputs": []
    }
  ],
  "metadata": {
    "kernelspec": {
      "display_name": "Python 3 (ipykernel)",
      "language": "python",
      "name": "python3"
    },
    "language_info": {
      "codemirror_mode": {
        "name": "ipython",
        "version": 3
      },
      "file_extension": ".py",
      "mimetype": "text/x-python",
      "name": "python",
      "nbconvert_exporter": "python",
      "pygments_lexer": "ipython3",
      "version": "3.10.12"
    },
    "colab": {
      "provenance": [],
      "include_colab_link": true
    }
  },
  "nbformat": 4,
  "nbformat_minor": 5
}