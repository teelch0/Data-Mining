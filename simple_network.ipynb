{
  "cells": [
    {
      "cell_type": "code",
      "execution_count": null,
      "id": "fc2084f1",
      "metadata": {
        "id": "fc2084f1"
      },
      "outputs": [],
      "source": [
        "import torch\n",
        "import torch.nn as nn"
      ]
    },
    {
      "cell_type": "code",
      "execution_count": null,
      "id": "d3f51bbb",
      "metadata": {
        "id": "d3f51bbb",
        "outputId": "ea809ccb-bb18-4398-9456-04e2d2e9554c"
      },
      "outputs": [
        {
          "data": {
            "text/plain": [
              "tensor([[-0.6558, -1.2212, -1.6305]])"
            ]
          },
          "execution_count": 2,
          "metadata": {},
          "output_type": "execute_result"
        }
      ],
      "source": [
        "# one way to make some typical input:\n",
        "input = torch.randn( 1, 3 )\n",
        "input"
      ]
    },
    {
      "cell_type": "code",
      "execution_count": null,
      "id": "a0647764",
      "metadata": {
        "id": "a0647764",
        "outputId": "4df577f8-b388-43f7-a13d-65a16a11d4f2"
      },
      "outputs": [
        {
          "data": {
            "text/plain": [
              "tensor([[1., 2., 3.]])"
            ]
          },
          "execution_count": 4,
          "metadata": {},
          "output_type": "execute_result"
        }
      ],
      "source": [
        "input = torch.tensor([[ 1.0, 2.0, 3.0 ]])\n",
        "input"
      ]
    },
    {
      "cell_type": "code",
      "execution_count": null,
      "id": "f15482bc",
      "metadata": {
        "id": "f15482bc"
      },
      "outputs": [],
      "source": [
        "# a simple neural network:\n",
        "model = nn.Sequential(\n",
        "    # a layer that takes 3 inputs, gives 2 outputs\n",
        "    nn.Linear( 3, 2 ),\n",
        "    # a nonlinear activation function\n",
        "    nn.ReLU(),\n",
        "    # output layer takes 2 inputs, gives scalar output\n",
        "    nn.Linear( 2, 1)\n",
        ")"
      ]
    },
    {
      "cell_type": "code",
      "execution_count": null,
      "id": "f322c23b",
      "metadata": {
        "id": "f322c23b",
        "outputId": "b3e0755a-06dd-45b1-ac4b-3113ea26f812"
      },
      "outputs": [
        {
          "data": {
            "text/plain": [
              "tensor([[ 2.,  1., -1.],\n",
              "        [-2., -1.,  1.]])"
            ]
          },
          "execution_count": 6,
          "metadata": {},
          "output_type": "execute_result"
        }
      ],
      "source": [
        "model[0].weight.data = torch.tensor([[ 2.0, 1.0, -1.0 ],\n",
        "                                     [ -2.0, -1.0, 1.0 ]])\n",
        "model[0].weight.data"
      ]
    },
    {
      "cell_type": "code",
      "execution_count": null,
      "id": "852b399b",
      "metadata": {
        "id": "852b399b"
      },
      "outputs": [],
      "source": [
        "model[0].bias.data = torch.tensor([[0.0, 0.0]])"
      ]
    },
    {
      "cell_type": "code",
      "execution_count": null,
      "id": "f78055ff",
      "metadata": {
        "id": "f78055ff",
        "outputId": "120b3588-a27d-4383-f1b6-6bf3dd77767d"
      },
      "outputs": [
        {
          "data": {
            "text/plain": [
              "tensor([[ 1., -1.]])"
            ]
          },
          "execution_count": 8,
          "metadata": {},
          "output_type": "execute_result"
        }
      ],
      "source": [
        "input @ model[0].weight.data.T + model[0].bias.data"
      ]
    },
    {
      "cell_type": "code",
      "execution_count": null,
      "id": "66f3aa09",
      "metadata": {
        "id": "66f3aa09",
        "outputId": "3a7ae31a-f041-4239-fc37-a3c3ac06f692"
      },
      "outputs": [
        {
          "data": {
            "text/plain": [
              "tensor([[1., 0.]])"
            ]
          },
          "execution_count": 9,
          "metadata": {},
          "output_type": "execute_result"
        }
      ],
      "source": [
        "activation = nn.ReLU()\n",
        "middle = activation( input @ model[0].weight.data.T + model[0].bias.data)\n",
        "middle"
      ]
    },
    {
      "cell_type": "code",
      "execution_count": null,
      "id": "7d5872f3",
      "metadata": {
        "id": "7d5872f3",
        "outputId": "ca89de8e-cc6d-480b-91ad-1714509f8faf"
      },
      "outputs": [
        {
          "data": {
            "text/plain": [
              "tensor([[-0.6104]])"
            ]
          },
          "execution_count": 10,
          "metadata": {},
          "output_type": "execute_result"
        }
      ],
      "source": [
        "middle @ model[2].weight.data.T + model[2].bias.data"
      ]
    },
    {
      "cell_type": "code",
      "execution_count": null,
      "id": "a4186335",
      "metadata": {
        "id": "a4186335",
        "outputId": "c005d771-90e3-43dc-ba96-efb196989766"
      },
      "outputs": [
        {
          "data": {
            "text/plain": [
              "tensor([[-0.6104]], grad_fn=<AddmmBackward0>)"
            ]
          },
          "execution_count": 11,
          "metadata": {},
          "output_type": "execute_result"
        }
      ],
      "source": [
        "model(input)"
      ]
    },
    {
      "cell_type": "code",
      "execution_count": null,
      "id": "7548edc8",
      "metadata": {
        "id": "7548edc8"
      },
      "outputs": [],
      "source": []
    }
  ],
  "metadata": {
    "kernelspec": {
      "display_name": "Python 3 (ipykernel)",
      "language": "python",
      "name": "python3"
    },
    "language_info": {
      "codemirror_mode": {
        "name": "ipython",
        "version": 3
      },
      "file_extension": ".py",
      "mimetype": "text/x-python",
      "name": "python",
      "nbconvert_exporter": "python",
      "pygments_lexer": "ipython3",
      "version": "3.12.3"
    },
    "colab": {
      "provenance": []
    }
  },
  "nbformat": 4,
  "nbformat_minor": 5
}