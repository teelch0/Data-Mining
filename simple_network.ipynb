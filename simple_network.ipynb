{
  "cells": [
    {
      "cell_type": "code",
      "execution_count": 1,
      "id": "fc2084f1",
      "metadata": {
        "id": "fc2084f1"
      },
      "outputs": [],
      "source": [
        "import torch\n",
        "import torch.nn as nn"
      ]
    },
    {
      "cell_type": "code",
      "execution_count": 2,
      "id": "d3f51bbb",
      "metadata": {
        "id": "d3f51bbb",
        "outputId": "9dd18c38-72d1-430a-e767-912c096f617c",
        "colab": {
          "base_uri": "https://localhost:8080/"
        }
      },
      "outputs": [
        {
          "output_type": "execute_result",
          "data": {
            "text/plain": [
              "tensor([[ 1.6244,  0.4175, -0.5481]])"
            ]
          },
          "metadata": {},
          "execution_count": 2
        }
      ],
      "source": [
        "# one way to make some typical input:\n",
        "input = torch.randn( 1, 3 )\n",
        "input"
      ]
    },
    {
      "cell_type": "code",
      "execution_count": 3,
      "id": "a0647764",
      "metadata": {
        "id": "a0647764",
        "outputId": "453dda21-9b1b-499d-99b4-3b8d2444d99b",
        "colab": {
          "base_uri": "https://localhost:8080/"
        }
      },
      "outputs": [
        {
          "output_type": "execute_result",
          "data": {
            "text/plain": [
              "tensor([[1., 2., 3.]])"
            ]
          },
          "metadata": {},
          "execution_count": 3
        }
      ],
      "source": [
        "input = torch.tensor([[ 1.0, 2.0, 3.0 ]])\n",
        "input"
      ]
    },
    {
      "cell_type": "code",
      "execution_count": 4,
      "id": "f15482bc",
      "metadata": {
        "id": "f15482bc"
      },
      "outputs": [],
      "source": [
        "# a simple neural network:\n",
        "model = nn.Sequential(\n",
        "    # a layer that takes 3 inputs, gives 2 outputs\n",
        "    nn.Linear( 3, 2 ),\n",
        "    # a nonlinear activation function\n",
        "    nn.ReLU(),\n",
        "    # output layer takes 2 inputs, gives scalar output\n",
        "    nn.Linear( 2, 1)\n",
        ")"
      ]
    },
    {
      "cell_type": "code",
      "execution_count": 5,
      "id": "f322c23b",
      "metadata": {
        "id": "f322c23b",
        "outputId": "1751b5d1-16d8-43f8-ba7e-0c991fe483fe",
        "colab": {
          "base_uri": "https://localhost:8080/"
        }
      },
      "outputs": [
        {
          "output_type": "execute_result",
          "data": {
            "text/plain": [
              "tensor([[ 2.,  1., -1.],\n",
              "        [-2., -1.,  1.]])"
            ]
          },
          "metadata": {},
          "execution_count": 5
        }
      ],
      "source": [
        "model[0].weight.data = torch.tensor([[ 2.0, 1.0, -1.0 ],\n",
        "                                     [ -2.0, -1.0, 1.0 ]])\n",
        "model[0].weight.data"
      ]
    },
    {
      "cell_type": "code",
      "execution_count": 6,
      "id": "852b399b",
      "metadata": {
        "id": "852b399b"
      },
      "outputs": [],
      "source": [
        "model[0].bias.data = torch.tensor([[0.0, 0.0]])"
      ]
    },
    {
      "cell_type": "code",
      "execution_count": 7,
      "id": "f78055ff",
      "metadata": {
        "id": "f78055ff",
        "outputId": "0da7cb9e-4cfb-490d-f54d-fd13c312d2b0",
        "colab": {
          "base_uri": "https://localhost:8080/"
        }
      },
      "outputs": [
        {
          "output_type": "execute_result",
          "data": {
            "text/plain": [
              "tensor([[ 1., -1.]])"
            ]
          },
          "metadata": {},
          "execution_count": 7
        }
      ],
      "source": [
        "input @ model[0].weight.data.T + model[0].bias.data"
      ]
    },
    {
      "cell_type": "code",
      "execution_count": 8,
      "id": "66f3aa09",
      "metadata": {
        "id": "66f3aa09",
        "outputId": "311ef86d-aa3e-4932-ef5c-fd4e9645154d",
        "colab": {
          "base_uri": "https://localhost:8080/"
        }
      },
      "outputs": [
        {
          "output_type": "execute_result",
          "data": {
            "text/plain": [
              "tensor([[1., 0.]])"
            ]
          },
          "metadata": {},
          "execution_count": 8
        }
      ],
      "source": [
        "activation = nn.ReLU()\n",
        "middle = activation( input @ model[0].weight.data.T + model[0].bias.data)\n",
        "middle"
      ]
    },
    {
      "cell_type": "code",
      "execution_count": 9,
      "id": "7d5872f3",
      "metadata": {
        "id": "7d5872f3",
        "outputId": "f077a0b2-ae8c-46ef-906e-428b42c48fd0",
        "colab": {
          "base_uri": "https://localhost:8080/"
        }
      },
      "outputs": [
        {
          "output_type": "execute_result",
          "data": {
            "text/plain": [
              "tensor([[0.1675]])"
            ]
          },
          "metadata": {},
          "execution_count": 9
        }
      ],
      "source": [
        "middle @ model[2].weight.data.T + model[2].bias.data"
      ]
    },
    {
      "cell_type": "code",
      "execution_count": 10,
      "id": "a4186335",
      "metadata": {
        "id": "a4186335",
        "outputId": "78977af0-2d05-4fea-a442-cf2ae3f3ef0e",
        "colab": {
          "base_uri": "https://localhost:8080/"
        }
      },
      "outputs": [
        {
          "output_type": "execute_result",
          "data": {
            "text/plain": [
              "tensor([[0.1675]], grad_fn=<AddmmBackward0>)"
            ]
          },
          "metadata": {},
          "execution_count": 10
        }
      ],
      "source": [
        "model(input)"
      ]
    },
    {
      "cell_type": "code",
      "execution_count": 10,
      "id": "7548edc8",
      "metadata": {
        "id": "7548edc8"
      },
      "outputs": [],
      "source": []
    }
  ],
  "metadata": {
    "kernelspec": {
      "display_name": "Python 3 (ipykernel)",
      "language": "python",
      "name": "python3"
    },
    "language_info": {
      "codemirror_mode": {
        "name": "ipython",
        "version": 3
      },
      "file_extension": ".py",
      "mimetype": "text/x-python",
      "name": "python",
      "nbconvert_exporter": "python",
      "pygments_lexer": "ipython3",
      "version": "3.12.3"
    },
    "colab": {
      "provenance": []
    }
  },
  "nbformat": 4,
  "nbformat_minor": 5
}