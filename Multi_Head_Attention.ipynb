{
  "nbformat": 4,
  "nbformat_minor": 0,
  "metadata": {
    "colab": {
      "provenance": [],
      "authorship_tag": "ABX9TyNOfNszRFlbubteuULlwOy/",
      "include_colab_link": true
    },
    "kernelspec": {
      "name": "python3",
      "display_name": "Python 3"
    },
    "language_info": {
      "name": "python"
    }
  },
  "cells": [
    {
      "cell_type": "markdown",
      "metadata": {
        "id": "view-in-github",
        "colab_type": "text"
      },
      "source": [
        "<a href=\"https://colab.research.google.com/github/teelch0/Data-Mining/blob/main/Multi_Head_Attention.ipynb\" target=\"_parent\"><img src=\"https://colab.research.google.com/assets/colab-badge.svg\" alt=\"Open In Colab\"/></a>"
      ]
    },
    {
      "cell_type": "code",
      "source": [
        "import torch\n",
        "import torch.nn as nn"
      ],
      "metadata": {
        "id": "R6F5bIkZ0lZ4"
      },
      "execution_count": 85,
      "outputs": []
    },
    {
      "cell_type": "code",
      "source": [
        "#Multi-head attention\n",
        "#multiple causal attentions stuck together\n",
        "class MultiHeadAttention(nn.Module):\n",
        "  def __init__(self, d_in, d_out, context_length, dropout, num_heads, qkv_bias=False):\n",
        "    super().__init__()\n",
        "    self.heads = nn.ModuleList([CausalAttention(d_in, d_out, context_length, dropout, qkv_bias) for _ in range(num_heads)])\n",
        "\n",
        "  def forward(self, x):\n",
        "    return torch.cat( [ head(x) for head in self.heads], dim= -1)"
      ],
      "metadata": {
        "id": "kXvlzHCp1Dh0"
      },
      "execution_count": 86,
      "outputs": []
    },
    {
      "cell_type": "code",
      "execution_count": 87,
      "metadata": {
        "id": "R-vPRhRcziX6"
      },
      "outputs": [],
      "source": [
        "class MultiHeadAttention(nn.Module):\n",
        "    def __init__(self, d_in, d_out, context_length, dropout, num_heads, qkv_bias=False):\n",
        "        super().__init__()\n",
        "        assert (d_out % num_heads == 0), \\\n",
        "            \"d_out must be divisible by num_heads\"\n",
        "\n",
        "        self.d_out = d_out\n",
        "        self.num_heads = num_heads\n",
        "        self.head_dim = d_out // num_heads # Reduce the projection dim to match desired output dim\n",
        "\n",
        "        self.W_query = nn.Linear(d_in, d_out, bias=qkv_bias)\n",
        "        self.W_key = nn.Linear(d_in, d_out, bias=qkv_bias)\n",
        "        self.W_value = nn.Linear(d_in, d_out, bias=qkv_bias)\n",
        "        self.out_proj = nn.Linear(d_out, d_out)  # Linear layer to combine head outputs\n",
        "        self.dropout = nn.Dropout(dropout)\n",
        "        self.register_buffer(\n",
        "            \"mask\",\n",
        "            torch.triu(torch.ones(context_length, context_length),\n",
        "                       diagonal=1)\n",
        "        )\n",
        "\n",
        "    def forward(self, x):\n",
        "        b, num_tokens, d_in = x.shape\n",
        "        # As in `CausalAttention`, for inputs where `num_tokens` exceeds `context_length`,\n",
        "        # this will result in errors in the mask creation further below.\n",
        "        # In practice, this is not a problem since the LLM (chapters 4-7) ensures that inputs\n",
        "        # do not exceed `context_length` before reaching this forward method.\n",
        "\n",
        "        keys = self.W_key(x) # Shape: (b, num_tokens, d_out)\n",
        "        queries = self.W_query(x)\n",
        "        values = self.W_value(x)\n",
        "\n",
        "        # We implicitly split the matrix by adding a `num_heads` dimension\n",
        "        # Unroll last dim: (b, num_tokens, d_out) -> (b, num_tokens, num_heads, head_dim)\n",
        "        keys = keys.view(b, num_tokens, self.num_heads, self.head_dim)\n",
        "        values = values.view(b, num_tokens, self.num_heads, self.head_dim)\n",
        "        queries = queries.view(b, num_tokens, self.num_heads, self.head_dim)\n",
        "\n",
        "        # Transpose: (b, num_tokens, num_heads, head_dim) -> (b, num_heads, num_tokens, head_dim)\n",
        "        keys = keys.transpose(1, 2)\n",
        "        queries = queries.transpose(1, 2)\n",
        "        values = values.transpose(1, 2)\n",
        "\n",
        "        # Compute scaled dot-product attention (aka self-attention) with a causal mask\n",
        "        attn_scores = queries @ keys.transpose(2, 3)  # Dot product for each head\n",
        "\n",
        "        # Original mask truncated to the number of tokens and converted to boolean\n",
        "        mask_bool = self.mask.bool()[:num_tokens, :num_tokens]\n",
        "\n",
        "        # Use the mask to fill attention scores\n",
        "        attn_scores.masked_fill_(mask_bool, -torch.inf)\n",
        "\n",
        "        attn_weights = torch.softmax(attn_scores / keys.shape[-1]**0.5, dim=-1)\n",
        "        attn_weights = self.dropout(attn_weights)\n",
        "\n",
        "        # Shape: (b, num_tokens, num_heads, head_dim)\n",
        "        context_vec = (attn_weights @ values).transpose(1, 2)\n",
        "\n",
        "        # Combine heads, where self.d_out = self.num_heads * self.head_dim\n",
        "        context_vec = context_vec.contiguous().view(b, num_tokens, self.d_out)\n",
        "        context_vec = self.out_proj(context_vec) # optional projection\n",
        "\n",
        "        return context_vec"
      ]
    },
    {
      "cell_type": "code",
      "source": [
        "context_length= 5\n",
        "d_in= 10"
      ],
      "metadata": {
        "id": "dPAa42-UCgGE"
      },
      "execution_count": 88,
      "outputs": []
    },
    {
      "cell_type": "code",
      "source": [
        "#Start with creating batches\n",
        "inputs= torch.nn.Embedding(5, 10)\n",
        "inputs= inputs.weight\n",
        "inputs= inputs.data\n",
        "inputs.shape\n",
        "inputs"
      ],
      "metadata": {
        "colab": {
          "base_uri": "https://localhost:8080/"
        },
        "id": "7c5_LyIh0utf",
        "outputId": "e855d115-b3d3-4442-c357-d84ca1526a82"
      },
      "execution_count": 89,
      "outputs": [
        {
          "output_type": "execute_result",
          "data": {
            "text/plain": [
              "tensor([[ 0.5884, -0.4747, -0.1274, -1.2693,  1.0388, -0.0463,  0.4765,  0.3781,\n",
              "          0.3754,  1.2586],\n",
              "        [-0.5737,  0.5784,  0.1409,  0.1539, -2.0708, -0.8233,  0.1262,  0.2651,\n",
              "         -0.2559,  0.1415],\n",
              "        [-0.7087,  0.2665, -0.1157,  0.7769, -0.3563, -0.4336, -0.9801,  0.0788,\n",
              "          0.0539,  0.1857],\n",
              "        [-0.7771,  0.0708, -0.4521, -0.8356,  0.1321, -0.9660, -0.2906,  0.5261,\n",
              "         -1.4621,  0.1175],\n",
              "        [ 1.5643,  0.9243, -0.7974, -1.3218, -0.0785, -0.7778,  0.1165,  0.3465,\n",
              "          0.0206, -0.6479]])"
            ]
          },
          "metadata": {},
          "execution_count": 89
        }
      ]
    },
    {
      "cell_type": "code",
      "source": [
        "batches = torch.stack( (inputs, inputs), dim=0)\n",
        "print(batches.shape)\n",
        "batches"
      ],
      "metadata": {
        "colab": {
          "base_uri": "https://localhost:8080/"
        },
        "id": "8e_ooTpY3Oz4",
        "outputId": "70fb5a08-2095-4e28-fdd0-0345a3bb3863"
      },
      "execution_count": 90,
      "outputs": [
        {
          "output_type": "stream",
          "name": "stdout",
          "text": [
            "torch.Size([2, 5, 10])\n"
          ]
        },
        {
          "output_type": "execute_result",
          "data": {
            "text/plain": [
              "tensor([[[ 0.5884, -0.4747, -0.1274, -1.2693,  1.0388, -0.0463,  0.4765,\n",
              "           0.3781,  0.3754,  1.2586],\n",
              "         [-0.5737,  0.5784,  0.1409,  0.1539, -2.0708, -0.8233,  0.1262,\n",
              "           0.2651, -0.2559,  0.1415],\n",
              "         [-0.7087,  0.2665, -0.1157,  0.7769, -0.3563, -0.4336, -0.9801,\n",
              "           0.0788,  0.0539,  0.1857],\n",
              "         [-0.7771,  0.0708, -0.4521, -0.8356,  0.1321, -0.9660, -0.2906,\n",
              "           0.5261, -1.4621,  0.1175],\n",
              "         [ 1.5643,  0.9243, -0.7974, -1.3218, -0.0785, -0.7778,  0.1165,\n",
              "           0.3465,  0.0206, -0.6479]],\n",
              "\n",
              "        [[ 0.5884, -0.4747, -0.1274, -1.2693,  1.0388, -0.0463,  0.4765,\n",
              "           0.3781,  0.3754,  1.2586],\n",
              "         [-0.5737,  0.5784,  0.1409,  0.1539, -2.0708, -0.8233,  0.1262,\n",
              "           0.2651, -0.2559,  0.1415],\n",
              "         [-0.7087,  0.2665, -0.1157,  0.7769, -0.3563, -0.4336, -0.9801,\n",
              "           0.0788,  0.0539,  0.1857],\n",
              "         [-0.7771,  0.0708, -0.4521, -0.8356,  0.1321, -0.9660, -0.2906,\n",
              "           0.5261, -1.4621,  0.1175],\n",
              "         [ 1.5643,  0.9243, -0.7974, -1.3218, -0.0785, -0.7778,  0.1165,\n",
              "           0.3465,  0.0206, -0.6479]]])"
            ]
          },
          "metadata": {},
          "execution_count": 90
        }
      ]
    },
    {
      "cell_type": "code",
      "source": [
        "d_out= 6\n",
        "num_heads= 3\n",
        "head_dim= 2\n",
        "b= 2"
      ],
      "metadata": {
        "id": "CQW4Lti79fK-"
      },
      "execution_count": 91,
      "outputs": []
    },
    {
      "cell_type": "code",
      "source": [
        "W_query= nn.Linear(d_in, d_out, bias= False)\n",
        "W_key= nn.Linear(d_in, d_out, bias= False)"
      ],
      "metadata": {
        "id": "VwDqp-F28g-v"
      },
      "execution_count": 92,
      "outputs": []
    },
    {
      "cell_type": "code",
      "source": [
        "keys= W_key(batches)\n",
        "print(keys.shape)\n",
        "keys"
      ],
      "metadata": {
        "colab": {
          "base_uri": "https://localhost:8080/"
        },
        "id": "ssCja2Qh3qPe",
        "outputId": "ac43fee8-0361-44c5-e5fc-558067335672"
      },
      "execution_count": 93,
      "outputs": [
        {
          "output_type": "stream",
          "name": "stdout",
          "text": [
            "torch.Size([2, 5, 6])\n"
          ]
        },
        {
          "output_type": "execute_result",
          "data": {
            "text/plain": [
              "tensor([[[ 0.1925,  0.5577,  0.7312,  0.4568, -0.1857, -0.0493],\n",
              "         [-0.2258, -0.0152, -0.5871, -0.2813, -0.2708,  0.9944],\n",
              "         [ 0.1086, -0.1215, -0.2574, -0.0257, -0.0733,  0.1241],\n",
              "         [-0.3641,  0.7743, -0.7566,  0.1291, -0.5361,  0.9804],\n",
              "         [-0.0889, -0.0881, -0.2959,  0.3891, -0.2442,  0.3458]],\n",
              "\n",
              "        [[ 0.1925,  0.5577,  0.7312,  0.4568, -0.1857, -0.0493],\n",
              "         [-0.2258, -0.0152, -0.5871, -0.2813, -0.2708,  0.9944],\n",
              "         [ 0.1086, -0.1215, -0.2574, -0.0257, -0.0733,  0.1241],\n",
              "         [-0.3641,  0.7743, -0.7566,  0.1291, -0.5361,  0.9804],\n",
              "         [-0.0889, -0.0881, -0.2959,  0.3891, -0.2442,  0.3458]]],\n",
              "       grad_fn=<UnsafeViewBackward0>)"
            ]
          },
          "metadata": {},
          "execution_count": 93
        }
      ]
    },
    {
      "cell_type": "code",
      "source": [
        "queries = W_query(batches)\n",
        "print(queries.shape)\n",
        "queries"
      ],
      "metadata": {
        "colab": {
          "base_uri": "https://localhost:8080/"
        },
        "id": "RJaYMf-Q_V36",
        "outputId": "887c5dfa-1674-44e5-9cc6-3f237d69b9b9"
      },
      "execution_count": 94,
      "outputs": [
        {
          "output_type": "stream",
          "name": "stdout",
          "text": [
            "torch.Size([2, 5, 6])\n"
          ]
        },
        {
          "output_type": "execute_result",
          "data": {
            "text/plain": [
              "tensor([[[-0.2630,  0.3940,  0.2773,  0.1226, -0.4435,  0.1881],\n",
              "         [ 0.4408, -0.0268,  0.4715,  0.5891, -0.3121, -0.7911],\n",
              "         [ 0.2078,  0.0412,  0.2971, -0.0481,  0.2002, -0.0091],\n",
              "         [ 0.5877,  0.0107,  0.0603,  0.6680,  0.2824, -0.7447],\n",
              "         [-0.2170,  0.1072, -0.1667,  0.0892, -0.2095, -0.8082]],\n",
              "\n",
              "        [[-0.2630,  0.3940,  0.2773,  0.1226, -0.4435,  0.1881],\n",
              "         [ 0.4408, -0.0268,  0.4715,  0.5891, -0.3121, -0.7911],\n",
              "         [ 0.2078,  0.0412,  0.2971, -0.0481,  0.2002, -0.0091],\n",
              "         [ 0.5877,  0.0107,  0.0603,  0.6680,  0.2824, -0.7447],\n",
              "         [-0.2170,  0.1072, -0.1667,  0.0892, -0.2095, -0.8082]]],\n",
              "       grad_fn=<UnsafeViewBackward0>)"
            ]
          },
          "metadata": {},
          "execution_count": 94
        }
      ]
    },
    {
      "cell_type": "code",
      "source": [
        "keys= keys.view(b, context_length , num_heads, head_dim)\n",
        "print(keys.shape)\n",
        "keys"
      ],
      "metadata": {
        "colab": {
          "base_uri": "https://localhost:8080/"
        },
        "id": "Lo3euR2__6IT",
        "outputId": "513e3a3e-7e9c-471a-a990-146cb0740e07"
      },
      "execution_count": 95,
      "outputs": [
        {
          "output_type": "stream",
          "name": "stdout",
          "text": [
            "torch.Size([2, 5, 3, 2])\n"
          ]
        },
        {
          "output_type": "execute_result",
          "data": {
            "text/plain": [
              "tensor([[[[ 0.1925,  0.5577],\n",
              "          [ 0.7312,  0.4568],\n",
              "          [-0.1857, -0.0493]],\n",
              "\n",
              "         [[-0.2258, -0.0152],\n",
              "          [-0.5871, -0.2813],\n",
              "          [-0.2708,  0.9944]],\n",
              "\n",
              "         [[ 0.1086, -0.1215],\n",
              "          [-0.2574, -0.0257],\n",
              "          [-0.0733,  0.1241]],\n",
              "\n",
              "         [[-0.3641,  0.7743],\n",
              "          [-0.7566,  0.1291],\n",
              "          [-0.5361,  0.9804]],\n",
              "\n",
              "         [[-0.0889, -0.0881],\n",
              "          [-0.2959,  0.3891],\n",
              "          [-0.2442,  0.3458]]],\n",
              "\n",
              "\n",
              "        [[[ 0.1925,  0.5577],\n",
              "          [ 0.7312,  0.4568],\n",
              "          [-0.1857, -0.0493]],\n",
              "\n",
              "         [[-0.2258, -0.0152],\n",
              "          [-0.5871, -0.2813],\n",
              "          [-0.2708,  0.9944]],\n",
              "\n",
              "         [[ 0.1086, -0.1215],\n",
              "          [-0.2574, -0.0257],\n",
              "          [-0.0733,  0.1241]],\n",
              "\n",
              "         [[-0.3641,  0.7743],\n",
              "          [-0.7566,  0.1291],\n",
              "          [-0.5361,  0.9804]],\n",
              "\n",
              "         [[-0.0889, -0.0881],\n",
              "          [-0.2959,  0.3891],\n",
              "          [-0.2442,  0.3458]]]], grad_fn=<ViewBackward0>)"
            ]
          },
          "metadata": {},
          "execution_count": 95
        }
      ]
    },
    {
      "cell_type": "code",
      "source": [
        "queries= queries.view(b, context_length , num_heads, head_dim)\n",
        "print(queries.shape)\n",
        "queries"
      ],
      "metadata": {
        "colab": {
          "base_uri": "https://localhost:8080/"
        },
        "id": "HxInP87NC6cP",
        "outputId": "c78b00a1-bea5-4351-8bb5-eb68156888ce"
      },
      "execution_count": 96,
      "outputs": [
        {
          "output_type": "stream",
          "name": "stdout",
          "text": [
            "torch.Size([2, 5, 3, 2])\n"
          ]
        },
        {
          "output_type": "execute_result",
          "data": {
            "text/plain": [
              "tensor([[[[-0.2630,  0.3940],\n",
              "          [ 0.2773,  0.1226],\n",
              "          [-0.4435,  0.1881]],\n",
              "\n",
              "         [[ 0.4408, -0.0268],\n",
              "          [ 0.4715,  0.5891],\n",
              "          [-0.3121, -0.7911]],\n",
              "\n",
              "         [[ 0.2078,  0.0412],\n",
              "          [ 0.2971, -0.0481],\n",
              "          [ 0.2002, -0.0091]],\n",
              "\n",
              "         [[ 0.5877,  0.0107],\n",
              "          [ 0.0603,  0.6680],\n",
              "          [ 0.2824, -0.7447]],\n",
              "\n",
              "         [[-0.2170,  0.1072],\n",
              "          [-0.1667,  0.0892],\n",
              "          [-0.2095, -0.8082]]],\n",
              "\n",
              "\n",
              "        [[[-0.2630,  0.3940],\n",
              "          [ 0.2773,  0.1226],\n",
              "          [-0.4435,  0.1881]],\n",
              "\n",
              "         [[ 0.4408, -0.0268],\n",
              "          [ 0.4715,  0.5891],\n",
              "          [-0.3121, -0.7911]],\n",
              "\n",
              "         [[ 0.2078,  0.0412],\n",
              "          [ 0.2971, -0.0481],\n",
              "          [ 0.2002, -0.0091]],\n",
              "\n",
              "         [[ 0.5877,  0.0107],\n",
              "          [ 0.0603,  0.6680],\n",
              "          [ 0.2824, -0.7447]],\n",
              "\n",
              "         [[-0.2170,  0.1072],\n",
              "          [-0.1667,  0.0892],\n",
              "          [-0.2095, -0.8082]]]], grad_fn=<ViewBackward0>)"
            ]
          },
          "metadata": {},
          "execution_count": 96
        }
      ]
    },
    {
      "cell_type": "code",
      "source": [
        "keys_T= keys.transpose(1,2)\n",
        "print(keys_T.shape)\n",
        "keys_T"
      ],
      "metadata": {
        "colab": {
          "base_uri": "https://localhost:8080/"
        },
        "id": "rIEfhYbiEkt7",
        "outputId": "aeec41c2-f053-4f42-93e8-efe9f8130bf1"
      },
      "execution_count": 97,
      "outputs": [
        {
          "output_type": "stream",
          "name": "stdout",
          "text": [
            "torch.Size([2, 3, 5, 2])\n"
          ]
        },
        {
          "output_type": "execute_result",
          "data": {
            "text/plain": [
              "tensor([[[[ 0.1925,  0.5577],\n",
              "          [-0.2258, -0.0152],\n",
              "          [ 0.1086, -0.1215],\n",
              "          [-0.3641,  0.7743],\n",
              "          [-0.0889, -0.0881]],\n",
              "\n",
              "         [[ 0.7312,  0.4568],\n",
              "          [-0.5871, -0.2813],\n",
              "          [-0.2574, -0.0257],\n",
              "          [-0.7566,  0.1291],\n",
              "          [-0.2959,  0.3891]],\n",
              "\n",
              "         [[-0.1857, -0.0493],\n",
              "          [-0.2708,  0.9944],\n",
              "          [-0.0733,  0.1241],\n",
              "          [-0.5361,  0.9804],\n",
              "          [-0.2442,  0.3458]]],\n",
              "\n",
              "\n",
              "        [[[ 0.1925,  0.5577],\n",
              "          [-0.2258, -0.0152],\n",
              "          [ 0.1086, -0.1215],\n",
              "          [-0.3641,  0.7743],\n",
              "          [-0.0889, -0.0881]],\n",
              "\n",
              "         [[ 0.7312,  0.4568],\n",
              "          [-0.5871, -0.2813],\n",
              "          [-0.2574, -0.0257],\n",
              "          [-0.7566,  0.1291],\n",
              "          [-0.2959,  0.3891]],\n",
              "\n",
              "         [[-0.1857, -0.0493],\n",
              "          [-0.2708,  0.9944],\n",
              "          [-0.0733,  0.1241],\n",
              "          [-0.5361,  0.9804],\n",
              "          [-0.2442,  0.3458]]]], grad_fn=<TransposeBackward0>)"
            ]
          },
          "metadata": {},
          "execution_count": 97
        }
      ]
    },
    {
      "cell_type": "code",
      "source": [
        "queries_T= queries.transpose(1,2)\n",
        "print(queries_T.shape)\n",
        "queries_T"
      ],
      "metadata": {
        "colab": {
          "base_uri": "https://localhost:8080/"
        },
        "id": "lEPor_QaFnKW",
        "outputId": "35b67c63-f901-4fb1-923f-b446c8934c0f"
      },
      "execution_count": 98,
      "outputs": [
        {
          "output_type": "stream",
          "name": "stdout",
          "text": [
            "torch.Size([2, 3, 5, 2])\n"
          ]
        },
        {
          "output_type": "execute_result",
          "data": {
            "text/plain": [
              "tensor([[[[-0.2630,  0.3940],\n",
              "          [ 0.4408, -0.0268],\n",
              "          [ 0.2078,  0.0412],\n",
              "          [ 0.5877,  0.0107],\n",
              "          [-0.2170,  0.1072]],\n",
              "\n",
              "         [[ 0.2773,  0.1226],\n",
              "          [ 0.4715,  0.5891],\n",
              "          [ 0.2971, -0.0481],\n",
              "          [ 0.0603,  0.6680],\n",
              "          [-0.1667,  0.0892]],\n",
              "\n",
              "         [[-0.4435,  0.1881],\n",
              "          [-0.3121, -0.7911],\n",
              "          [ 0.2002, -0.0091],\n",
              "          [ 0.2824, -0.7447],\n",
              "          [-0.2095, -0.8082]]],\n",
              "\n",
              "\n",
              "        [[[-0.2630,  0.3940],\n",
              "          [ 0.4408, -0.0268],\n",
              "          [ 0.2078,  0.0412],\n",
              "          [ 0.5877,  0.0107],\n",
              "          [-0.2170,  0.1072]],\n",
              "\n",
              "         [[ 0.2773,  0.1226],\n",
              "          [ 0.4715,  0.5891],\n",
              "          [ 0.2971, -0.0481],\n",
              "          [ 0.0603,  0.6680],\n",
              "          [-0.1667,  0.0892]],\n",
              "\n",
              "         [[-0.4435,  0.1881],\n",
              "          [-0.3121, -0.7911],\n",
              "          [ 0.2002, -0.0091],\n",
              "          [ 0.2824, -0.7447],\n",
              "          [-0.2095, -0.8082]]]], grad_fn=<TransposeBackward0>)"
            ]
          },
          "metadata": {},
          "execution_count": 98
        }
      ]
    },
    {
      "cell_type": "code",
      "source": [
        "attn_scores= queries_T @ keys_T.transpose(2, 3)\n",
        "print(attn_scores.shape)\n",
        "attn_scores"
      ],
      "metadata": {
        "colab": {
          "base_uri": "https://localhost:8080/"
        },
        "id": "-KXxaTmTGlzR",
        "outputId": "1e20457b-7f0a-4d4b-83fb-b6429dd02e50"
      },
      "execution_count": 99,
      "outputs": [
        {
          "output_type": "stream",
          "name": "stdout",
          "text": [
            "torch.Size([2, 3, 5, 5])\n"
          ]
        },
        {
          "output_type": "execute_result",
          "data": {
            "text/plain": [
              "tensor([[[[ 0.1691,  0.0534, -0.0764,  0.4009, -0.0113],\n",
              "          [ 0.0699, -0.0991,  0.0511, -0.1812, -0.0368],\n",
              "          [ 0.0630, -0.0476,  0.0176, -0.0438, -0.0221],\n",
              "          [ 0.1191, -0.1329,  0.0625, -0.2058, -0.0532],\n",
              "          [ 0.0180,  0.0474, -0.0366,  0.1620,  0.0098]],\n",
              "\n",
              "         [[ 0.2588, -0.1973, -0.0745, -0.1940, -0.0344],\n",
              "          [ 0.6138, -0.4425, -0.1365, -0.2806,  0.0897],\n",
              "          [ 0.1953, -0.1609, -0.0752, -0.2310, -0.1066],\n",
              "          [ 0.3492, -0.2233, -0.0327,  0.0407,  0.2421],\n",
              "          [-0.0812,  0.0728,  0.0406,  0.1377,  0.0841]],\n",
              "\n",
              "         [[ 0.0731,  0.3071,  0.0559,  0.4222,  0.1734],\n",
              "          [ 0.0969, -0.7022, -0.0753, -0.6083, -0.1973],\n",
              "          [-0.0367, -0.0633, -0.0158, -0.1163, -0.0521],\n",
              "          [-0.0158, -0.8170, -0.1131, -0.8815, -0.3265],\n",
              "          [ 0.0787, -0.7470, -0.0849, -0.6801, -0.2283]]],\n",
              "\n",
              "\n",
              "        [[[ 0.1691,  0.0534, -0.0764,  0.4009, -0.0113],\n",
              "          [ 0.0699, -0.0991,  0.0511, -0.1812, -0.0368],\n",
              "          [ 0.0630, -0.0476,  0.0176, -0.0438, -0.0221],\n",
              "          [ 0.1191, -0.1329,  0.0625, -0.2058, -0.0532],\n",
              "          [ 0.0180,  0.0474, -0.0366,  0.1620,  0.0098]],\n",
              "\n",
              "         [[ 0.2588, -0.1973, -0.0745, -0.1940, -0.0344],\n",
              "          [ 0.6138, -0.4425, -0.1365, -0.2806,  0.0897],\n",
              "          [ 0.1953, -0.1609, -0.0752, -0.2310, -0.1066],\n",
              "          [ 0.3492, -0.2233, -0.0327,  0.0407,  0.2421],\n",
              "          [-0.0812,  0.0728,  0.0406,  0.1377,  0.0841]],\n",
              "\n",
              "         [[ 0.0731,  0.3071,  0.0559,  0.4222,  0.1734],\n",
              "          [ 0.0969, -0.7022, -0.0753, -0.6083, -0.1973],\n",
              "          [-0.0367, -0.0633, -0.0158, -0.1163, -0.0521],\n",
              "          [-0.0158, -0.8170, -0.1131, -0.8815, -0.3265],\n",
              "          [ 0.0787, -0.7470, -0.0849, -0.6801, -0.2283]]]],\n",
              "       grad_fn=<UnsafeViewBackward0>)"
            ]
          },
          "metadata": {},
          "execution_count": 99
        }
      ]
    },
    {
      "cell_type": "code",
      "source": [
        "mask= torch.triu(torch.ones(context_length, context_length), diagonal= 1)\n",
        "print(mask.shape)\n",
        "mask"
      ],
      "metadata": {
        "colab": {
          "base_uri": "https://localhost:8080/"
        },
        "id": "s2SQE9JPMnN9",
        "outputId": "b8f6f5a6-f49c-474c-f3ac-7e8e9cf51479"
      },
      "execution_count": 100,
      "outputs": [
        {
          "output_type": "stream",
          "name": "stdout",
          "text": [
            "torch.Size([5, 5])\n"
          ]
        },
        {
          "output_type": "execute_result",
          "data": {
            "text/plain": [
              "tensor([[0., 1., 1., 1., 1.],\n",
              "        [0., 0., 1., 1., 1.],\n",
              "        [0., 0., 0., 1., 1.],\n",
              "        [0., 0., 0., 0., 1.],\n",
              "        [0., 0., 0., 0., 0.]])"
            ]
          },
          "metadata": {},
          "execution_count": 100
        }
      ]
    },
    {
      "cell_type": "code",
      "source": [
        "mask_bool= mask.bool()[:context_length, :context_length]\n",
        "print(mask_bool.shape)\n",
        "mask_bool"
      ],
      "metadata": {
        "colab": {
          "base_uri": "https://localhost:8080/"
        },
        "id": "6nRrxOHEWrRy",
        "outputId": "fdf450b9-7e0d-4172-a7f9-f21eba87127b"
      },
      "execution_count": 101,
      "outputs": [
        {
          "output_type": "stream",
          "name": "stdout",
          "text": [
            "torch.Size([5, 5])\n"
          ]
        },
        {
          "output_type": "execute_result",
          "data": {
            "text/plain": [
              "tensor([[False,  True,  True,  True,  True],\n",
              "        [False, False,  True,  True,  True],\n",
              "        [False, False, False,  True,  True],\n",
              "        [False, False, False, False,  True],\n",
              "        [False, False, False, False, False]])"
            ]
          },
          "metadata": {},
          "execution_count": 101
        }
      ]
    },
    {
      "cell_type": "code",
      "source": [
        "attn_scores.masked_fill_(mask_bool, -torch.inf)"
      ],
      "metadata": {
        "colab": {
          "base_uri": "https://localhost:8080/"
        },
        "id": "cS55omnUboXp",
        "outputId": "b9a8215b-48c8-4f05-adc9-6773a17146f0"
      },
      "execution_count": 102,
      "outputs": [
        {
          "output_type": "execute_result",
          "data": {
            "text/plain": [
              "tensor([[[[ 0.1691,    -inf,    -inf,    -inf,    -inf],\n",
              "          [ 0.0699, -0.0991,    -inf,    -inf,    -inf],\n",
              "          [ 0.0630, -0.0476,  0.0176,    -inf,    -inf],\n",
              "          [ 0.1191, -0.1329,  0.0625, -0.2058,    -inf],\n",
              "          [ 0.0180,  0.0474, -0.0366,  0.1620,  0.0098]],\n",
              "\n",
              "         [[ 0.2588,    -inf,    -inf,    -inf,    -inf],\n",
              "          [ 0.6138, -0.4425,    -inf,    -inf,    -inf],\n",
              "          [ 0.1953, -0.1609, -0.0752,    -inf,    -inf],\n",
              "          [ 0.3492, -0.2233, -0.0327,  0.0407,    -inf],\n",
              "          [-0.0812,  0.0728,  0.0406,  0.1377,  0.0841]],\n",
              "\n",
              "         [[ 0.0731,    -inf,    -inf,    -inf,    -inf],\n",
              "          [ 0.0969, -0.7022,    -inf,    -inf,    -inf],\n",
              "          [-0.0367, -0.0633, -0.0158,    -inf,    -inf],\n",
              "          [-0.0158, -0.8170, -0.1131, -0.8815,    -inf],\n",
              "          [ 0.0787, -0.7470, -0.0849, -0.6801, -0.2283]]],\n",
              "\n",
              "\n",
              "        [[[ 0.1691,    -inf,    -inf,    -inf,    -inf],\n",
              "          [ 0.0699, -0.0991,    -inf,    -inf,    -inf],\n",
              "          [ 0.0630, -0.0476,  0.0176,    -inf,    -inf],\n",
              "          [ 0.1191, -0.1329,  0.0625, -0.2058,    -inf],\n",
              "          [ 0.0180,  0.0474, -0.0366,  0.1620,  0.0098]],\n",
              "\n",
              "         [[ 0.2588,    -inf,    -inf,    -inf,    -inf],\n",
              "          [ 0.6138, -0.4425,    -inf,    -inf,    -inf],\n",
              "          [ 0.1953, -0.1609, -0.0752,    -inf,    -inf],\n",
              "          [ 0.3492, -0.2233, -0.0327,  0.0407,    -inf],\n",
              "          [-0.0812,  0.0728,  0.0406,  0.1377,  0.0841]],\n",
              "\n",
              "         [[ 0.0731,    -inf,    -inf,    -inf,    -inf],\n",
              "          [ 0.0969, -0.7022,    -inf,    -inf,    -inf],\n",
              "          [-0.0367, -0.0633, -0.0158,    -inf,    -inf],\n",
              "          [-0.0158, -0.8170, -0.1131, -0.8815,    -inf],\n",
              "          [ 0.0787, -0.7470, -0.0849, -0.6801, -0.2283]]]],\n",
              "       grad_fn=<MaskedFillBackward0>)"
            ]
          },
          "metadata": {},
          "execution_count": 102
        }
      ]
    },
    {
      "cell_type": "code",
      "source": [
        "print(mask_bool.shape)\n",
        "print(attn_scores.shape)"
      ],
      "metadata": {
        "colab": {
          "base_uri": "https://localhost:8080/"
        },
        "id": "Znp0Jo7Ic9rt",
        "outputId": "469d73c6-0a1a-4cd9-c425-19ef9180ba89"
      },
      "execution_count": 103,
      "outputs": [
        {
          "output_type": "stream",
          "name": "stdout",
          "text": [
            "torch.Size([5, 5])\n",
            "torch.Size([2, 3, 5, 5])\n"
          ]
        }
      ]
    }
  ]
}